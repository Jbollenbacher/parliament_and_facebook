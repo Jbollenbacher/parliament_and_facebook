{
 "cells": [
  {
   "cell_type": "code",
   "execution_count": 1,
   "metadata": {
    "scrolled": false
   },
   "outputs": [
    {
     "name": "stdout",
     "output_type": "stream",
     "text": [
      "kernel live\n"
     ]
    }
   ],
   "source": [
    "print('kernel live')"
   ]
  },
  {
   "cell_type": "markdown",
   "metadata": {},
   "source": [
    "# load data and libraries"
   ]
  },
  {
   "cell_type": "code",
   "execution_count": 2,
   "metadata": {},
   "outputs": [],
   "source": [
    "import pandas as pd\n",
    "import numpy as np\n",
    "\n",
    "import matplotlib.pyplot as plt\n",
    "\n",
    "from bootstrap_tools import *\n",
    "\n",
    "pd.options.mode.chained_assignment = None"
   ]
  },
  {
   "cell_type": "code",
   "execution_count": 118,
   "metadata": {
    "scrolled": true
   },
   "outputs": [],
   "source": [
    "by = 'by_text' # by_text or as_single_text or by_source\n",
    "gap = 24; gap=str(gap) # 0 or 24. units are hours\n",
    "sim_type = 'BC' # BC or cosine or SWF\n",
    "resampling = '_r1'\n",
    "control = '' #'_control'\n",
    "\n",
    "all_parties = pd.read_parquet('./data/results_'+by+'__'+gap+'hr_'+sim_type+resampling+control+'.parquet')\n",
    "con = pd.read_parquet('./data/results_'+by+'_Con_'+gap+'hr_'+sim_type+resampling+control+'.parquet')\n",
    "lab = pd.read_parquet('./data/results_'+by+'_Lab_'+gap+'hr_'+sim_type+resampling+control+'.parquet')\n",
    "\n",
    "con['responding_party'] = 'Con'\n",
    "lab['responding_party'] = 'Lab'\n",
    "all_parties['responding_party'] = 'All'\n",
    "\n",
    "df = pd.concat([all_parties, con, lab]).reset_index(drop=True)"
   ]
  },
  {
   "cell_type": "code",
   "execution_count": 119,
   "metadata": {},
   "outputs": [],
   "source": [
    "#drop any all-null columns\n",
    "df = df[[col for col in df.columns if not all(df.sample(10000)[col].isna())]]"
   ]
  },
  {
   "cell_type": "code",
   "execution_count": 120,
   "metadata": {},
   "outputs": [
    {
     "data": {
      "text/plain": [
       "url               444297\n",
       "tweet             399018\n",
       "commons_speech    353742\n",
       "Name: text_type, dtype: int64"
      ]
     },
     "execution_count": 120,
     "metadata": {},
     "output_type": "execute_result"
    }
   ],
   "source": [
    "df['text_type'].value_counts()"
   ]
  },
  {
   "cell_type": "code",
   "execution_count": 121,
   "metadata": {},
   "outputs": [
    {
     "name": "stdout",
     "output_type": "stream",
     "text": [
      "<class 'pandas.core.frame.DataFrame'>\n",
      "RangeIndex: 1197057 entries, 0 to 1197056\n",
      "Data columns (total 41 columns):\n",
      " #   Column                     Non-Null Count    Dtype         \n",
      "---  ------                     --------------    -----         \n",
      " 0   mp_name                    752760 non-null   object        \n",
      " 1   text_id                    1197057 non-null  object        \n",
      " 2   time                       1197057 non-null  datetime64[ns]\n",
      " 3   user_id                    399018 non-null   object        \n",
      " 4   n_likes                    399018 non-null   float64       \n",
      " 5   n_replies                  399018 non-null   float64       \n",
      " 6   n_retweets                 399018 non-null   float64       \n",
      " 7   n_quotes                   399018 non-null   float64       \n",
      " 8   party                      533256 non-null   object        \n",
      " 9   text_type                  1197057 non-null  object        \n",
      " 10  constituency               169308 non-null   object        \n",
      " 11  job                        119490 non-null   object        \n",
      " 12  clean_url                  444297 non-null   object        \n",
      " 13  full_domain                444297 non-null   object        \n",
      " 14  parent_domain              444297 non-null   object        \n",
      " 15  first_post_time            444297 non-null   object        \n",
      " 16  tpfc_rating                93 non-null       object        \n",
      " 17  tpfc_first_fact_check      93 non-null       object        \n",
      " 18  spam_usr_feedback          444297 non-null   float64       \n",
      " 19  false_news_usr_feedback    444297 non-null   float64       \n",
      " 20  hate_speech_usr_feedback   444297 non-null   float64       \n",
      " 21  public_shares_top_country  444297 non-null   object        \n",
      " 22  year_month                 444297 non-null   object        \n",
      " 23  count                      444297 non-null   float64       \n",
      " 24  sum_views                  444297 non-null   float64       \n",
      " 25  sum_clicks                 444297 non-null   float64       \n",
      " 26  sum_shares                 444297 non-null   float64       \n",
      " 27  sum_likes                  444297 non-null   float64       \n",
      " 28  sum_loves                  444297 non-null   float64       \n",
      " 29  sum_hahas                  444297 non-null   float64       \n",
      " 30  sum_wows                   444297 non-null   float64       \n",
      " 31  sum_sorrys                 444297 non-null   float64       \n",
      " 32  sum_angers                 444297 non-null   float64       \n",
      " 33  sum_comments               444297 non-null   float64       \n",
      " 34  sum_share_without_clicks   444297 non-null   float64       \n",
      " 35  domain                     444297 non-null   object        \n",
      " 36  commons_speech_sim_delta   891984 non-null   float64       \n",
      " 37  tweet_sim_delta            1038303 non-null  float64       \n",
      " 38  url_sim_delta              301537 non-null   object        \n",
      " 39  n_words_in_text            1197057 non-null  int64         \n",
      " 40  responding_party           1197057 non-null  object        \n",
      "dtypes: datetime64[ns](1), float64(21), int64(1), object(18)\n",
      "memory usage: 374.4+ MB\n"
     ]
    }
   ],
   "source": [
    "df.info()"
   ]
  },
  {
   "cell_type": "markdown",
   "metadata": {},
   "source": [
    "# identify top correlates"
   ]
  },
  {
   "cell_type": "code",
   "execution_count": 122,
   "metadata": {},
   "outputs": [],
   "source": [
    "import statsmodels.api as sm"
   ]
  },
  {
   "cell_type": "code",
   "execution_count": 123,
   "metadata": {},
   "outputs": [],
   "source": [
    "correlates_of_cause = {'tweet':['n_likes','n_replies','n_retweets','n_quotes'],\n",
    "                       'url':['sum_views','sum_clicks','sum_shares','sum_likes',\n",
    "                              'sum_loves',\n",
    "                              'sum_hahas','sum_wows','sum_sorrys',\n",
    "                              'sum_angers','sum_comments','sum_share_without_clicks',\n",
    "                             ],\n",
    "                      }\n",
    "\n",
    "def append_log_features(df, features):\n",
    "    for feature in features:\n",
    "        if feature!='newsguard_score':\n",
    "            df[feature+'_log'] = np.log(df[feature].replace(0,0.1))\n",
    "    return df\n",
    "        \n",
    "def identify_top_linear_correlates(df, cause_type, response_type, log_features, linear_features):\n",
    "    response_col = response_type+'_sim_delta'\n",
    "    correlates = correlates_of_cause[cause_type]\n",
    "    \n",
    "    if log_features:\n",
    "        df = append_log_features(df, correlates)\n",
    "        if linear_features:\n",
    "            correlates = correlates + [x+'_log' for x in correlates if x!='newsguard_score']\n",
    "        else: \n",
    "            correlates = [x+'_log' if x!='newsguard_score' else 'newsguard_score' for x in correlates]        \n",
    "    \n",
    "    df = df[df['text_type']==cause_type]\n",
    "    df = df.dropna(subset = correlates+[response_col]).reset_index(drop=True)\n",
    "    df['const'] = 1\n",
    "    y = df[response_col]\n",
    "    X = df[correlates+['const']]\n",
    "    \n",
    "    results = sm.OLS(y, X).fit()\n",
    "    \n",
    "    return results\n",
    "\n",
    "def results_summary_to_dataframe(results):\n",
    "    '''take the result of an statsmodel results table and transforms it into a dataframe'''\n",
    "    pvals = results.pvalues\n",
    "    coeff = results.params\n",
    "    conf_lower = results.conf_int()[0]\n",
    "    conf_higher = results.conf_int()[1]\n",
    "\n",
    "    results_df = pd.DataFrame({\"p\":pvals,\n",
    "                               \"coeff\":coeff,\n",
    "                               \"CI_lower\":conf_lower,\n",
    "                               \"CI_upper\":conf_higher\n",
    "                                })\n",
    "\n",
    "    #Reordering...\n",
    "    results_df = results_df[['p','coeff','CI_lower','CI_upper']]\n",
    "    return results_df"
   ]
  },
  {
   "cell_type": "code",
   "execution_count": 124,
   "metadata": {},
   "outputs": [
    {
     "name": "stdout",
     "output_type": "stream",
     "text": [
      "tweet on commons_speech\n",
      "tweet on tweet\n",
      "url on commons_speech\n"
     ]
    },
    {
     "name": "stderr",
     "output_type": "stream",
     "text": [
      "/home/jmbollen/.local/lib/python3.8/site-packages/pandas/core/arraylike.py:364: RuntimeWarning: invalid value encountered in log\n",
      "  result = getattr(ufunc, method)(*inputs, **kwargs)\n"
     ]
    },
    {
     "name": "stdout",
     "output_type": "stream",
     "text": [
      "url on tweet\n"
     ]
    },
    {
     "name": "stderr",
     "output_type": "stream",
     "text": [
      "/home/jmbollen/.local/lib/python3.8/site-packages/pandas/core/arraylike.py:364: RuntimeWarning: invalid value encountered in log\n",
      "  result = getattr(ufunc, method)(*inputs, **kwargs)\n"
     ]
    },
    {
     "name": "stdout",
     "output_type": "stream",
     "text": [
      "tweet on commons_speech\n",
      "tweet on tweet\n",
      "url on commons_speech\n"
     ]
    },
    {
     "name": "stderr",
     "output_type": "stream",
     "text": [
      "/home/jmbollen/.local/lib/python3.8/site-packages/pandas/core/arraylike.py:364: RuntimeWarning: invalid value encountered in log\n",
      "  result = getattr(ufunc, method)(*inputs, **kwargs)\n"
     ]
    },
    {
     "name": "stdout",
     "output_type": "stream",
     "text": [
      "url on tweet\n"
     ]
    },
    {
     "name": "stderr",
     "output_type": "stream",
     "text": [
      "/home/jmbollen/.local/lib/python3.8/site-packages/pandas/core/arraylike.py:364: RuntimeWarning: invalid value encountered in log\n",
      "  result = getattr(ufunc, method)(*inputs, **kwargs)\n"
     ]
    },
    {
     "name": "stdout",
     "output_type": "stream",
     "text": [
      "tweet on commons_speech\n",
      "tweet on tweet\n",
      "url on commons_speech\n"
     ]
    },
    {
     "name": "stderr",
     "output_type": "stream",
     "text": [
      "/home/jmbollen/.local/lib/python3.8/site-packages/pandas/core/arraylike.py:364: RuntimeWarning: invalid value encountered in log\n",
      "  result = getattr(ufunc, method)(*inputs, **kwargs)\n"
     ]
    },
    {
     "name": "stdout",
     "output_type": "stream",
     "text": [
      "url on tweet\n"
     ]
    },
    {
     "name": "stderr",
     "output_type": "stream",
     "text": [
      "/home/jmbollen/.local/lib/python3.8/site-packages/pandas/core/arraylike.py:364: RuntimeWarning: invalid value encountered in log\n",
      "  result = getattr(ufunc, method)(*inputs, **kwargs)\n"
     ]
    }
   ],
   "source": [
    "causes = ['tweet','url']\n",
    "responses = ['commons_speech', 'tweet']\n",
    "parties = ['All','Lab','Con']\n",
    "log_features= True\n",
    "lin_features = False\n",
    "master_table = list()\n",
    "\n",
    "for party in parties:\n",
    "    for cause in causes:\n",
    "        for response in responses:\n",
    "            print(cause, 'on', response)\n",
    "            df1 = df[df['responding_party']==party]\n",
    "            results = identify_top_linear_correlates(df1, cause, response, log_features, lin_features)\n",
    "            results = results_summary_to_dataframe(results).sort_values('p').drop('const')\n",
    "            results = results.reset_index().rename(columns = {'index':'correlate'})\n",
    "            results['cause'] = cause\n",
    "            results['response'] = response\n",
    "            results['responding_party'] = party\n",
    "            master_table.append(results)\n",
    "        \n",
    "master_table = pd.concat(master_table)\n",
    "master_table = master_table[['responding_party','cause','response','correlate','p','coeff']].reset_index(drop=True)"
   ]
  },
  {
   "cell_type": "code",
   "execution_count": 125,
   "metadata": {},
   "outputs": [],
   "source": [
    "n_exps = master_table[['responding_party','cause','response']].nunique().product() #number of separate regressions\n",
    "master_table['p_bon'] = master_table['p']*n_exps\n",
    "table = master_table[master_table['p_bon']<0.05].drop(columns = ['p_bon'])"
   ]
  },
  {
   "cell_type": "code",
   "execution_count": 126,
   "metadata": {},
   "outputs": [
    {
     "ename": "KeyError",
     "evalue": "'cause'",
     "output_type": "error",
     "traceback": [
      "\u001b[0;31m---------------------------------------------------------------------------\u001b[0m",
      "\u001b[0;31mKeyError\u001b[0m                                  Traceback (most recent call last)",
      "\u001b[0;32m~/.local/lib/python3.8/site-packages/pandas/core/indexes/base.py\u001b[0m in \u001b[0;36mget_loc\u001b[0;34m(self, key, method, tolerance)\u001b[0m\n\u001b[1;32m   3360\u001b[0m             \u001b[0;32mtry\u001b[0m\u001b[0;34m:\u001b[0m\u001b[0;34m\u001b[0m\u001b[0;34m\u001b[0m\u001b[0m\n\u001b[0;32m-> 3361\u001b[0;31m                 \u001b[0;32mreturn\u001b[0m \u001b[0mself\u001b[0m\u001b[0;34m.\u001b[0m\u001b[0m_engine\u001b[0m\u001b[0;34m.\u001b[0m\u001b[0mget_loc\u001b[0m\u001b[0;34m(\u001b[0m\u001b[0mcasted_key\u001b[0m\u001b[0;34m)\u001b[0m\u001b[0;34m\u001b[0m\u001b[0;34m\u001b[0m\u001b[0m\n\u001b[0m\u001b[1;32m   3362\u001b[0m             \u001b[0;32mexcept\u001b[0m \u001b[0mKeyError\u001b[0m \u001b[0;32mas\u001b[0m \u001b[0merr\u001b[0m\u001b[0;34m:\u001b[0m\u001b[0;34m\u001b[0m\u001b[0;34m\u001b[0m\u001b[0m\n",
      "\u001b[0;32m~/.local/lib/python3.8/site-packages/pandas/_libs/index.pyx\u001b[0m in \u001b[0;36mpandas._libs.index.IndexEngine.get_loc\u001b[0;34m()\u001b[0m\n",
      "\u001b[0;32m~/.local/lib/python3.8/site-packages/pandas/_libs/index.pyx\u001b[0m in \u001b[0;36mpandas._libs.index.IndexEngine.get_loc\u001b[0;34m()\u001b[0m\n",
      "\u001b[0;32mpandas/_libs/hashtable_class_helper.pxi\u001b[0m in \u001b[0;36mpandas._libs.hashtable.PyObjectHashTable.get_item\u001b[0;34m()\u001b[0m\n",
      "\u001b[0;32mpandas/_libs/hashtable_class_helper.pxi\u001b[0m in \u001b[0;36mpandas._libs.hashtable.PyObjectHashTable.get_item\u001b[0;34m()\u001b[0m\n",
      "\u001b[0;31mKeyError\u001b[0m: 'cause'",
      "\nThe above exception was the direct cause of the following exception:\n",
      "\u001b[0;31mKeyError\u001b[0m                                  Traceback (most recent call last)",
      "\u001b[0;32m<ipython-input-126-e1912209e169>\u001b[0m in \u001b[0;36m<module>\u001b[0;34m\u001b[0m\n\u001b[0;32m----> 1\u001b[0;31m table['cause'] = table['cause'].map({'url':'News Article on FB', \n\u001b[0m\u001b[1;32m      2\u001b[0m                     \u001b[0;34m'tweet'\u001b[0m\u001b[0;34m:\u001b[0m\u001b[0;34m'MP Tweet'\u001b[0m\u001b[0;34m,\u001b[0m\u001b[0;34m\u001b[0m\u001b[0;34m\u001b[0m\u001b[0m\n\u001b[1;32m      3\u001b[0m                     'commons_speech':'Commons Q&A'})\n\u001b[1;32m      4\u001b[0m table['response'] = table['response'].map({'url':'News Article on FB', \n\u001b[1;32m      5\u001b[0m                     \u001b[0;34m'tweet'\u001b[0m\u001b[0;34m:\u001b[0m\u001b[0;34m'MP Tweet'\u001b[0m\u001b[0;34m,\u001b[0m\u001b[0;34m\u001b[0m\u001b[0;34m\u001b[0m\u001b[0m\n",
      "\u001b[0;32m~/.local/lib/python3.8/site-packages/pandas/core/frame.py\u001b[0m in \u001b[0;36m__getitem__\u001b[0;34m(self, key)\u001b[0m\n\u001b[1;32m   3453\u001b[0m             \u001b[0;32mif\u001b[0m \u001b[0mself\u001b[0m\u001b[0;34m.\u001b[0m\u001b[0mcolumns\u001b[0m\u001b[0;34m.\u001b[0m\u001b[0mnlevels\u001b[0m \u001b[0;34m>\u001b[0m \u001b[0;36m1\u001b[0m\u001b[0;34m:\u001b[0m\u001b[0;34m\u001b[0m\u001b[0;34m\u001b[0m\u001b[0m\n\u001b[1;32m   3454\u001b[0m                 \u001b[0;32mreturn\u001b[0m \u001b[0mself\u001b[0m\u001b[0;34m.\u001b[0m\u001b[0m_getitem_multilevel\u001b[0m\u001b[0;34m(\u001b[0m\u001b[0mkey\u001b[0m\u001b[0;34m)\u001b[0m\u001b[0;34m\u001b[0m\u001b[0;34m\u001b[0m\u001b[0m\n\u001b[0;32m-> 3455\u001b[0;31m             \u001b[0mindexer\u001b[0m \u001b[0;34m=\u001b[0m \u001b[0mself\u001b[0m\u001b[0;34m.\u001b[0m\u001b[0mcolumns\u001b[0m\u001b[0;34m.\u001b[0m\u001b[0mget_loc\u001b[0m\u001b[0;34m(\u001b[0m\u001b[0mkey\u001b[0m\u001b[0;34m)\u001b[0m\u001b[0;34m\u001b[0m\u001b[0;34m\u001b[0m\u001b[0m\n\u001b[0m\u001b[1;32m   3456\u001b[0m             \u001b[0;32mif\u001b[0m \u001b[0mis_integer\u001b[0m\u001b[0;34m(\u001b[0m\u001b[0mindexer\u001b[0m\u001b[0;34m)\u001b[0m\u001b[0;34m:\u001b[0m\u001b[0;34m\u001b[0m\u001b[0;34m\u001b[0m\u001b[0m\n\u001b[1;32m   3457\u001b[0m                 \u001b[0mindexer\u001b[0m \u001b[0;34m=\u001b[0m \u001b[0;34m[\u001b[0m\u001b[0mindexer\u001b[0m\u001b[0;34m]\u001b[0m\u001b[0;34m\u001b[0m\u001b[0;34m\u001b[0m\u001b[0m\n",
      "\u001b[0;32m~/.local/lib/python3.8/site-packages/pandas/core/indexes/base.py\u001b[0m in \u001b[0;36mget_loc\u001b[0;34m(self, key, method, tolerance)\u001b[0m\n\u001b[1;32m   3361\u001b[0m                 \u001b[0;32mreturn\u001b[0m \u001b[0mself\u001b[0m\u001b[0;34m.\u001b[0m\u001b[0m_engine\u001b[0m\u001b[0;34m.\u001b[0m\u001b[0mget_loc\u001b[0m\u001b[0;34m(\u001b[0m\u001b[0mcasted_key\u001b[0m\u001b[0;34m)\u001b[0m\u001b[0;34m\u001b[0m\u001b[0;34m\u001b[0m\u001b[0m\n\u001b[1;32m   3362\u001b[0m             \u001b[0;32mexcept\u001b[0m \u001b[0mKeyError\u001b[0m \u001b[0;32mas\u001b[0m \u001b[0merr\u001b[0m\u001b[0;34m:\u001b[0m\u001b[0;34m\u001b[0m\u001b[0;34m\u001b[0m\u001b[0m\n\u001b[0;32m-> 3363\u001b[0;31m                 \u001b[0;32mraise\u001b[0m \u001b[0mKeyError\u001b[0m\u001b[0;34m(\u001b[0m\u001b[0mkey\u001b[0m\u001b[0;34m)\u001b[0m \u001b[0;32mfrom\u001b[0m \u001b[0merr\u001b[0m\u001b[0;34m\u001b[0m\u001b[0;34m\u001b[0m\u001b[0m\n\u001b[0m\u001b[1;32m   3364\u001b[0m \u001b[0;34m\u001b[0m\u001b[0m\n\u001b[1;32m   3365\u001b[0m         \u001b[0;32mif\u001b[0m \u001b[0mis_scalar\u001b[0m\u001b[0;34m(\u001b[0m\u001b[0mkey\u001b[0m\u001b[0;34m)\u001b[0m \u001b[0;32mand\u001b[0m \u001b[0misna\u001b[0m\u001b[0;34m(\u001b[0m\u001b[0mkey\u001b[0m\u001b[0;34m)\u001b[0m \u001b[0;32mand\u001b[0m \u001b[0;32mnot\u001b[0m \u001b[0mself\u001b[0m\u001b[0;34m.\u001b[0m\u001b[0mhasnans\u001b[0m\u001b[0;34m:\u001b[0m\u001b[0;34m\u001b[0m\u001b[0;34m\u001b[0m\u001b[0m\n",
      "\u001b[0;31mKeyError\u001b[0m: 'cause'"
     ]
    }
   ],
   "source": [
    "table['cause'] = table['cause'].map({'url':'News Article on FB', \n",
    "                    'tweet':'MP Tweet',\n",
    "                    'commons_speech':'Commons Q&A'})\n",
    "table['response'] = table['response'].map({'url':'News Article on FB', \n",
    "                    'tweet':'MP Tweet',\n",
    "                    'commons_speech':'Commons Q&A'})\n",
    "table['correlate'] = table['correlate'].apply(lambda x: x.replace('sum','n'))\n",
    "\n",
    "table = table.rename(columns={'responding_party':'Party','cause':'Stimulus','response':'Response'})\n",
    "table = table.set_index(['Party','Stimulus','Response'])"
   ]
  },
  {
   "cell_type": "code",
   "execution_count": null,
   "metadata": {},
   "outputs": [],
   "source": [
    "table"
   ]
  },
  {
   "cell_type": "code",
   "execution_count": null,
   "metadata": {},
   "outputs": [],
   "source": [
    "print(table[['correlate', 'coeff','p']].to_latex(float_format=\"%.2g\"))\n",
    "print('\\n\\n')"
   ]
  },
  {
   "cell_type": "markdown",
   "metadata": {},
   "source": [
    "# correlation and monotonicity tests"
   ]
  },
  {
   "cell_type": "code",
   "execution_count": 111,
   "metadata": {},
   "outputs": [],
   "source": [
    "# #spearmans rho correlation test\n",
    "# from scipy.stats import spearmanr\n",
    "# from scipy.stats import pearsonr"
   ]
  },
  {
   "cell_type": "code",
   "execution_count": 112,
   "metadata": {},
   "outputs": [],
   "source": [
    "# causes = ['url','tweet']\n",
    "# responses = ['commons_speech', 'tweet']\n",
    "# correlates_of_cause = {'tweet':['n_likes','n_replies','n_retweets','n_quotes'],\n",
    "#                        'url':['sum_views','sum_clicks','sum_shares','sum_likes',\n",
    "#                               'sum_loves','sum_hahas','sum_wows','sum_sorrys',\n",
    "#                               'sum_angers','sum_comments','sum_share_without_clicks',\n",
    "#                               'newsguard_score'],\n",
    "#                        'commons_speech':['mp_name','constituency','party','job'],} \n",
    "\n",
    "\n",
    "# results = list()\n",
    "# for cause in causes:\n",
    "#     for response in responses:\n",
    "#         for corr in correlates_of_cause[cause]:\n",
    "#             df2 = df[df['text_type']==cause]\n",
    "#             df2 = df2.dropna(subset=[response+'_sim_delta', corr])\n",
    "#             df2 = df2[(df2[corr] > df2[corr].quantile(0.05)) & (df2[corr] < df2[corr].quantile(1))]\n",
    "\n",
    "#             result = spearmanr(a=np.array(df2[corr]), b=np.array(df2[response+'_sim_delta']))\n",
    "#             R_spearman = result.correlation\n",
    "#             p_spearman = result.pvalue\n",
    "#             R_pearson, p_pearson = pearsonr(np.array(df2[corr]), np.array(df2[response+'_sim_delta']))\n",
    "        \n",
    "#             results.append((cause, response, corr, R_pearson, p_pearson, R_spearman, p_spearman, ))\n",
    "\n",
    "            \n",
    "# results = pd.DataFrame(results, columns = ['cause','response','correlate', 'R_pearson','p_pearson',\n",
    "#                                            'R_spearman','p_spearman'])\n",
    "# results"
   ]
  },
  {
   "cell_type": "markdown",
   "metadata": {},
   "source": [
    "# Overall mean effects \n",
    "\n",
    "slow. bootstraps over whole dataset 10000 times for each inference"
   ]
  },
  {
   "cell_type": "code",
   "execution_count": 113,
   "metadata": {},
   "outputs": [
    {
     "data": {
      "image/png": "[encoded data removed]",
      "text/plain": [
       "<Figure size 1296x864 with 9 Axes>"
      ]
     },
     "metadata": {
      "needs_background": "light"
     },
     "output_type": "display_data"
    }
   ],
   "source": [
    "causes = ['url', 'commons_speech', 'tweet']\n",
    "responses = ['url','commons_speech', 'tweet'] if 'url_sim_delta' in df.columns else ['commons_speech', 'tweet']\n",
    "\n",
    "\n",
    "plt.rcParams[\"figure.figsize\"] = (6*len(causes),4*len(responses))\n",
    "fig, axs = plt.subplots(nrows = len(responses), ncols = len(causes))\n",
    "for i, cause_type in enumerate(causes):\n",
    "    for j, response_type in enumerate(responses):\n",
    "        ax = axs[j,i]\n",
    "        a = df[df['text_type']==cause_type].copy()\n",
    "        a = a[a['responding_party'] == 'All']\n",
    "        bins = np.linspace(a[response_type+'_sim_delta'].quantile(0.01), \n",
    "                           a[response_type+'_sim_delta'].quantile(0.99), \n",
    "                           51)\n",
    "        a[response_type+'_sim_delta'].hist(bins = bins, ax=ax, density=True)\n",
    "        ax.set_title(cause_type+' influcence on '+response_type)\n",
    "        ax.set_xlabel('change in similarity')\n",
    "        ax.set_ylabel('density')\n",
    "        \n",
    "fig.tight_layout()\n",
    "fig.show()"
   ]
  },
  {
   "cell_type": "code",
   "execution_count": 114,
   "metadata": {},
   "outputs": [],
   "source": [
    "causes = ['url', 'commons_speech', 'tweet']\n",
    "responses = ['commons_speech', 'tweet'] #['url', 'commons_speech', 'tweet']\n",
    "parties = ['All','Lab','Con']\n",
    "\n",
    "table = list()\n",
    "\n",
    "for party in parties:\n",
    "    for i, cause_type in enumerate(causes):\n",
    "        for j, response_type in enumerate(responses):\n",
    "            a = df[df['text_type']==cause_type].copy()\n",
    "            a = a[a['responding_party'] == party]\n",
    "            y = a[response_type+'_sim_delta']\n",
    "            diffs_of_means = mean_bootstrap(y, 100);\n",
    "            if diffs_of_means.mean()>0:  p = ((diffs_of_means<=0).sum()+1)/(diffs_of_means.count()+1) \n",
    "            else: p = ((diffs_of_means>=0).sum()+1)/(diffs_of_means.count()+1)\n",
    "            table.append((party, cause_type, response_type, diffs_of_means.mean(), \n",
    "                          diffs_of_means.quantile(0.025), diffs_of_means.quantile(0.975), p))\n",
    "            \n",
    "\n",
    "table = pd.DataFrame(table,columns=['responding_party','cause','response','mean','95%CI_lower','95%CI_upper', 'p'])\n",
    "table['95%CI_pm'] = table.apply(lambda x: max(x['mean']-x['95%CI_lower'], x['95%CI_upper']-x['mean']) ,axis=1)\n",
    "table['95%CI_assym'] = table.apply(lambda x: (x['95%CI_upper']-x['mean']) - (x['mean']-x['95%CI_lower']) ,axis=1)\n",
    "\n"
   ]
  },
  {
   "cell_type": "code",
   "execution_count": 115,
   "metadata": {},
   "outputs": [],
   "source": [
    "table['cause'] = table['cause'].map({'url':'News Article on FB', \n",
    "                    'tweet':'MP Tweet',\n",
    "                    'commons_speech':'Commons Q&A'})\n",
    "table['response'] = table['response'].map({'url':'News Article on FB', \n",
    "                    'tweet':'MP Tweet',\n",
    "                    'commons_speech':'Commons Q&A'})\n",
    "\n",
    "table = table.rename(columns={'responding_party':'Party','cause':'Stimulus','response':'Response'})\n",
    "# table = table[table['Response']!='News Article on FB'] #drop news article responses. undefined. \n",
    "table = table.set_index(['Party','Stimulus','Response'])\n",
    "table = table[['mean','95%CI_pm','p']]"
   ]
  },
  {
   "cell_type": "code",
   "execution_count": 116,
   "metadata": {},
   "outputs": [
    {
     "data": {
      "text/html": [
       "<div>\n",
       "<style scoped>\n",
       "    .dataframe tbody tr th:only-of-type {\n",
       "        vertical-align: middle;\n",
       "    }\n",
       "\n",
       "    .dataframe tbody tr th {\n",
       "        vertical-align: top;\n",
       "    }\n",
       "\n",
       "    .dataframe thead th {\n",
       "        text-align: right;\n",
       "    }\n",
       "</style>\n",
       "<table border=\"1\" class=\"dataframe\">\n",
       "  <thead>\n",
       "    <tr style=\"text-align: right;\">\n",
       "      <th></th>\n",
       "      <th></th>\n",
       "      <th></th>\n",
       "      <th>mean</th>\n",
       "      <th>95%CI_pm</th>\n",
       "      <th>p</th>\n",
       "    </tr>\n",
       "    <tr>\n",
       "      <th>Party</th>\n",
       "      <th>Stimulus</th>\n",
       "      <th>Response</th>\n",
       "      <th></th>\n",
       "      <th></th>\n",
       "      <th></th>\n",
       "    </tr>\n",
       "  </thead>\n",
       "  <tbody>\n",
       "    <tr>\n",
       "      <th rowspan=\"6\" valign=\"top\">All</th>\n",
       "      <th rowspan=\"2\" valign=\"top\">News Article on FB</th>\n",
       "      <th>Commons Q&amp;A</th>\n",
       "      <td>3.325251e-05</td>\n",
       "      <td>6.720082e-06</td>\n",
       "      <td>0.009901</td>\n",
       "    </tr>\n",
       "    <tr>\n",
       "      <th>MP Tweet</th>\n",
       "      <td>-1.846589e-05</td>\n",
       "      <td>3.081038e-06</td>\n",
       "      <td>0.009901</td>\n",
       "    </tr>\n",
       "    <tr>\n",
       "      <th rowspan=\"2\" valign=\"top\">Commons Q&amp;A</th>\n",
       "      <th>Commons Q&amp;A</th>\n",
       "      <td>-1.681792e-05</td>\n",
       "      <td>2.663444e-06</td>\n",
       "      <td>0.009901</td>\n",
       "    </tr>\n",
       "    <tr>\n",
       "      <th>MP Tweet</th>\n",
       "      <td>-4.497737e-06</td>\n",
       "      <td>5.729385e-07</td>\n",
       "      <td>0.009901</td>\n",
       "    </tr>\n",
       "    <tr>\n",
       "      <th rowspan=\"2\" valign=\"top\">MP Tweet</th>\n",
       "      <th>Commons Q&amp;A</th>\n",
       "      <td>3.258281e-06</td>\n",
       "      <td>1.014241e-06</td>\n",
       "      <td>0.009901</td>\n",
       "    </tr>\n",
       "    <tr>\n",
       "      <th>MP Tweet</th>\n",
       "      <td>-3.133287e-06</td>\n",
       "      <td>2.453162e-07</td>\n",
       "      <td>0.009901</td>\n",
       "    </tr>\n",
       "    <tr>\n",
       "      <th rowspan=\"6\" valign=\"top\">Lab</th>\n",
       "      <th rowspan=\"2\" valign=\"top\">News Article on FB</th>\n",
       "      <th>Commons Q&amp;A</th>\n",
       "      <td>1.038936e-04</td>\n",
       "      <td>8.214251e-06</td>\n",
       "      <td>0.009901</td>\n",
       "    </tr>\n",
       "    <tr>\n",
       "      <th>MP Tweet</th>\n",
       "      <td>-9.199804e-06</td>\n",
       "      <td>4.566596e-06</td>\n",
       "      <td>0.009901</td>\n",
       "    </tr>\n",
       "    <tr>\n",
       "      <th rowspan=\"2\" valign=\"top\">Commons Q&amp;A</th>\n",
       "      <th>Commons Q&amp;A</th>\n",
       "      <td>-6.458393e-06</td>\n",
       "      <td>3.171121e-06</td>\n",
       "      <td>0.009901</td>\n",
       "    </tr>\n",
       "    <tr>\n",
       "      <th>MP Tweet</th>\n",
       "      <td>-6.392470e-06</td>\n",
       "      <td>6.126169e-07</td>\n",
       "      <td>0.009901</td>\n",
       "    </tr>\n",
       "    <tr>\n",
       "      <th rowspan=\"2\" valign=\"top\">MP Tweet</th>\n",
       "      <th>Commons Q&amp;A</th>\n",
       "      <td>8.877404e-06</td>\n",
       "      <td>1.476560e-06</td>\n",
       "      <td>0.009901</td>\n",
       "    </tr>\n",
       "    <tr>\n",
       "      <th>MP Tweet</th>\n",
       "      <td>-3.815477e-06</td>\n",
       "      <td>3.732408e-07</td>\n",
       "      <td>0.009901</td>\n",
       "    </tr>\n",
       "    <tr>\n",
       "      <th rowspan=\"6\" valign=\"top\">Con</th>\n",
       "      <th rowspan=\"2\" valign=\"top\">News Article on FB</th>\n",
       "      <th>Commons Q&amp;A</th>\n",
       "      <td>-1.075411e-05</td>\n",
       "      <td>6.862423e-06</td>\n",
       "      <td>0.009901</td>\n",
       "    </tr>\n",
       "    <tr>\n",
       "      <th>MP Tweet</th>\n",
       "      <td>-1.002021e-05</td>\n",
       "      <td>6.207045e-06</td>\n",
       "      <td>0.009901</td>\n",
       "    </tr>\n",
       "    <tr>\n",
       "      <th rowspan=\"2\" valign=\"top\">Commons Q&amp;A</th>\n",
       "      <th>Commons Q&amp;A</th>\n",
       "      <td>3.344104e-06</td>\n",
       "      <td>3.401129e-06</td>\n",
       "      <td>0.009901</td>\n",
       "    </tr>\n",
       "    <tr>\n",
       "      <th>MP Tweet</th>\n",
       "      <td>-9.550048e-07</td>\n",
       "      <td>9.451596e-07</td>\n",
       "      <td>0.039604</td>\n",
       "    </tr>\n",
       "    <tr>\n",
       "      <th rowspan=\"2\" valign=\"top\">MP Tweet</th>\n",
       "      <th>Commons Q&amp;A</th>\n",
       "      <td>4.296307e-06</td>\n",
       "      <td>1.197353e-06</td>\n",
       "      <td>0.009901</td>\n",
       "    </tr>\n",
       "    <tr>\n",
       "      <th>MP Tweet</th>\n",
       "      <td>-2.219918e-06</td>\n",
       "      <td>4.721170e-07</td>\n",
       "      <td>0.009901</td>\n",
       "    </tr>\n",
       "  </tbody>\n",
       "</table>\n",
       "</div>"
      ],
      "text/plain": [
       "                                              mean      95%CI_pm         p\n",
       "Party Stimulus           Response                                         \n",
       "All   News Article on FB Commons Q&A  3.325251e-05  6.720082e-06  0.009901\n",
       "                         MP Tweet    -1.846589e-05  3.081038e-06  0.009901\n",
       "      Commons Q&A        Commons Q&A -1.681792e-05  2.663444e-06  0.009901\n",
       "                         MP Tweet    -4.497737e-06  5.729385e-07  0.009901\n",
       "      MP Tweet           Commons Q&A  3.258281e-06  1.014241e-06  0.009901\n",
       "                         MP Tweet    -3.133287e-06  2.453162e-07  0.009901\n",
       "Lab   News Article on FB Commons Q&A  1.038936e-04  8.214251e-06  0.009901\n",
       "                         MP Tweet    -9.199804e-06  4.566596e-06  0.009901\n",
       "      Commons Q&A        Commons Q&A -6.458393e-06  3.171121e-06  0.009901\n",
       "                         MP Tweet    -6.392470e-06  6.126169e-07  0.009901\n",
       "      MP Tweet           Commons Q&A  8.877404e-06  1.476560e-06  0.009901\n",
       "                         MP Tweet    -3.815477e-06  3.732408e-07  0.009901\n",
       "Con   News Article on FB Commons Q&A -1.075411e-05  6.862423e-06  0.009901\n",
       "                         MP Tweet    -1.002021e-05  6.207045e-06  0.009901\n",
       "      Commons Q&A        Commons Q&A  3.344104e-06  3.401129e-06  0.009901\n",
       "                         MP Tweet    -9.550048e-07  9.451596e-07  0.039604\n",
       "      MP Tweet           Commons Q&A  4.296307e-06  1.197353e-06  0.009901\n",
       "                         MP Tweet    -2.219918e-06  4.721170e-07  0.009901"
      ]
     },
     "execution_count": 116,
     "metadata": {},
     "output_type": "execute_result"
    }
   ],
   "source": [
    "table"
   ]
  },
  {
   "cell_type": "code",
   "execution_count": 117,
   "metadata": {},
   "outputs": [
    {
     "name": "stdout",
     "output_type": "stream",
     "text": [
      "\\begin{tabular}{lllrrr}\n",
      "\\toprule\n",
      "    &          &          &      Mean &   +/- &      p \\\\\n",
      "Party & Stimulus & Response &           &       &        \\\\\n",
      "\\midrule\n",
      "All & News Article on FB & Commons Q\\&A &  3.33e-05 & 7e-06 & 0.0099 \\\\\n",
      "    &          & MP Tweet & -1.85e-05 & 3e-06 & 0.0099 \\\\\n",
      "    & Commons Q\\&A & Commons Q\\&A & -1.68e-05 & 3e-06 & 0.0099 \\\\\n",
      "    &          & MP Tweet &  -4.5e-06 & 6e-07 & 0.0099 \\\\\n",
      "    & MP Tweet & Commons Q\\&A &  3.26e-06 & 1e-06 & 0.0099 \\\\\n",
      "    &          & MP Tweet & -3.13e-06 & 2e-07 & 0.0099 \\\\\n",
      "Lab & News Article on FB & Commons Q\\&A &  0.000104 & 8e-06 & 0.0099 \\\\\n",
      "    &          & MP Tweet &  -9.2e-06 & 5e-06 & 0.0099 \\\\\n",
      "    & Commons Q\\&A & Commons Q\\&A & -6.46e-06 & 3e-06 & 0.0099 \\\\\n",
      "    &          & MP Tweet & -6.39e-06 & 6e-07 & 0.0099 \\\\\n",
      "    & MP Tweet & Commons Q\\&A &  8.88e-06 & 1e-06 & 0.0099 \\\\\n",
      "    &          & MP Tweet & -3.82e-06 & 4e-07 & 0.0099 \\\\\n",
      "Con & News Article on FB & Commons Q\\&A & -1.08e-05 & 7e-06 & 0.0099 \\\\\n",
      "    &          & MP Tweet &    -1e-05 & 6e-06 & 0.0099 \\\\\n",
      "    & Commons Q\\&A & Commons Q\\&A &  3.34e-06 & 3e-06 & 0.0099 \\\\\n",
      "    &          & MP Tweet & -9.55e-07 & 9e-07 &   0.04 \\\\\n",
      "    & MP Tweet & Commons Q\\&A &   4.3e-06 & 1e-06 & 0.0099 \\\\\n",
      "    &          & MP Tweet & -2.22e-06 & 5e-07 & 0.0099 \\\\\n",
      "\\bottomrule\n",
      "\\end{tabular}\n",
      "\n"
     ]
    }
   ],
   "source": [
    "print(table.to_latex(\n",
    "            header = ['Mean','+/-','p'],\n",
    "            formatters = {'mean': (lambda x: '{x:.3g}'.format(x=x)),\n",
    "                          '95%CI_pm' : (lambda x: '{x:.1g}'.format(x=x)),\n",
    "                          'p' : (lambda x: '{x:.2g}'.format(x=x))}    \n",
    "#             index = False,\n",
    "))"
   ]
  },
  {
   "cell_type": "code",
   "execution_count": null,
   "metadata": {},
   "outputs": [],
   "source": []
  },
  {
   "cell_type": "code",
   "execution_count": null,
   "metadata": {},
   "outputs": [],
   "source": []
  },
  {
   "cell_type": "code",
   "execution_count": null,
   "metadata": {},
   "outputs": [],
   "source": []
  },
  {
   "cell_type": "code",
   "execution_count": null,
   "metadata": {},
   "outputs": [],
   "source": []
  },
  {
   "cell_type": "code",
   "execution_count": null,
   "metadata": {},
   "outputs": [],
   "source": []
  },
  {
   "cell_type": "code",
   "execution_count": null,
   "metadata": {},
   "outputs": [],
   "source": []
  },
  {
   "cell_type": "code",
   "execution_count": null,
   "metadata": {},
   "outputs": [],
   "source": []
  }
 ],
 "metadata": {
  "kernelspec": {
   "display_name": "Python 3",
   "language": "python",
   "name": "python3"
  },
  "language_info": {
   "codemirror_mode": {
    "name": "ipython",
    "version": 3
   },
   "file_extension": ".py",
   "mimetype": "text/x-python",
   "name": "python",
   "nbconvert_exporter": "python",
   "pygments_lexer": "ipython3",
   "version": "3.8.10"
  }
 },
 "nbformat": 4,
 "nbformat_minor": 4
}
