{
 "cells": [
  {
   "cell_type": "code",
   "execution_count": 13,
   "id": "26eec436-e31f-4c02-aa1d-d71974f6dc04",
   "metadata": {
    "execution": {
     "iopub.execute_input": "2022-01-26T16:12:13.942578Z",
     "iopub.status.busy": "2022-01-26T16:12:13.942027Z",
     "iopub.status.idle": "2022-01-26T16:12:13.947035Z",
     "shell.execute_reply": "2022-01-26T16:12:13.946521Z",
     "shell.execute_reply.started": "2022-01-26T16:12:13.942554Z"
    },
    "tags": []
   },
   "outputs": [],
   "source": [
    "import pandas as pd\n",
    "import os.path\n",
    "import pickle as pk\n",
    "from math import isnan\n",
    "from fbri.private.sql.query import execute\n",
    "\n",
    "def getFilename(domain):\n",
    "    return (domain+\"_domain_stats.tsv\")\n",
    "\n",
    "\n",
    "def getStats(same_month=True):\n",
    "    database = \"fbri_prod_private\"\n",
    "    urls_table = \"erc_condor_url_attributes_dp_final_v3\"\n",
    "    breakdown_table = \"erc_condor_url_breakdowns_dp_clean_partitioned_v2\"\n",
    "    \n",
    "    month_clause = ''\n",
    "    if same_month:\n",
    "        month_clause = \"AND b.year_month = date_format(from_unixtime(u.first_post_time_unix),'%Y-%m')\"\n",
    "    \n",
    "    sql = f\"\"\"\n",
    "    SELECT u.*, COUNT(b.views) as count,\n",
    "    SUM(b.views) as sum_views, SUM(b.clicks) as sum_clicks, \n",
    "    SUM(b.shares) as sum_shares, SUM(b.likes) as sum_likes, \n",
    "    SUM(b.loves) as sum_loves, SUM(b.hahas) as sum_hahas, \n",
    "    SUM(b.wows) as sum_wows, SUM(b.sorrys) as sum_sorrys, \n",
    "    SUM(b.angers) as sum_angers, SUM(b.comments) as sum_comments, \n",
    "    SUM(b.share_without_clicks) as sum_share_without_clicks\n",
    "    FROM {database}.{breakdown_table} b\n",
    "    JOIN {database}.{urls_table} u\n",
    "    ON (\n",
    "     u.url_rid = b.url_rid\n",
    "     AND b.c ='GB'\n",
    "     AND u.public_shares_top_country = 'GB'\n",
    "     {month_clause}\n",
    "    ) GROUP BY u.url_rid,u.clean_url,u.full_domain,\n",
    "    u.parent_domain,u.first_post_time,u.first_post_time_unix,\n",
    "    u.share_title,u.share_main_blurb,u.tpfc_rating,\n",
    "    u.tpfc_first_fact_check,u.tpfc_first_fact_check_unix,\n",
    "    u.spam_usr_feedback,u.false_news_usr_feedback,\n",
    "    u.hate_speech_usr_feedback,u.public_shares_top_country, u.year_month\n",
    "    \"\"\"    \n",
    "    df = execute(sql)\n",
    "    \n",
    "    return (df)"
   ]
  },
  {
   "cell_type": "code",
   "execution_count": 14,
   "id": "001b70b1-7385-4e21-8cfc-014cc19fd5f1",
   "metadata": {
    "execution": {
     "iopub.execute_input": "2022-01-26T16:12:14.643391Z",
     "iopub.status.busy": "2022-01-26T16:12:14.642850Z",
     "iopub.status.idle": "2022-01-26T16:18:54.648179Z",
     "shell.execute_reply": "2022-01-26T16:18:54.647656Z",
     "shell.execute_reply.started": "2022-01-26T16:12:14.643367Z"
    },
    "tags": []
   },
   "outputs": [
    {
     "name": "stdout",
     "output_type": "stream",
     "text": [
      "Query execution started. Query ID: cd04faf9-440c-4a71-872b-a4b13d09776c\n",
      "running for 1.5 sec, status: RUNNING\n",
      "running for 3.75 sec, status: RUNNING\n",
      "running for 7.12 sec, status: RUNNING\n",
      "running for 12.19 sec, status: RUNNING\n",
      "running for 19.78 sec, status: RUNNING\n",
      "running for 48.26 sec, status: RUNNING\n",
      "running for 73.89 sec, status: RUNNING\n",
      "running for 170.0 sec, status: RUNNING\n",
      "running for 256.49 sec, status: RUNNING\n"
     ]
    }
   ],
   "source": [
    "df  = getStats()"
   ]
  },
  {
   "cell_type": "code",
   "execution_count": 17,
   "id": "d49d9ee9-2d75-47c1-b60a-5f063ff4763d",
   "metadata": {
    "execution": {
     "iopub.execute_input": "2022-01-26T16:50:53.432200Z",
     "iopub.status.busy": "2022-01-26T16:50:53.431904Z",
     "iopub.status.idle": "2022-01-26T16:50:53.520792Z",
     "shell.execute_reply": "2022-01-26T16:50:53.520245Z",
     "shell.execute_reply.started": "2022-01-26T16:50:53.432178Z"
    },
    "tags": []
   },
   "outputs": [],
   "source": [
    "df = df.drop(columns = ['share_title','share_main_blurb'])"
   ]
  },
  {
   "cell_type": "code",
   "execution_count": 18,
   "id": "a39305d1-f814-40b2-99b8-da7b6497b594",
   "metadata": {
    "execution": {
     "iopub.execute_input": "2022-01-26T16:51:30.413351Z",
     "iopub.status.busy": "2022-01-26T16:51:30.413059Z",
     "iopub.status.idle": "2022-01-26T16:51:31.674290Z",
     "shell.execute_reply": "2022-01-26T16:51:31.673779Z",
     "shell.execute_reply.started": "2022-01-26T16:51:30.413328Z"
    },
    "tags": []
   },
   "outputs": [],
   "source": [
    "df.to_parquet('./data/all_urls_no_title_or_blurb.parquet')"
   ]
  },
  {
   "cell_type": "code",
   "execution_count": null,
   "id": "c5bd8b6d-92b8-4ac3-ab8d-54ed31143976",
   "metadata": {},
   "outputs": [],
   "source": []
  }
 ],
 "metadata": {
  "kernelspec": {
   "display_name": "Python 3 (ipykernel)",
   "language": "python",
   "name": "python3"
  },
  "language_info": {
   "codemirror_mode": {
    "name": "ipython",
    "version": 3
   },
   "file_extension": ".py",
   "mimetype": "text/x-python",
   "name": "python",
   "nbconvert_exporter": "python",
   "pygments_lexer": "ipython3",
   "version": "3.9.7"
  }
 },
 "nbformat": 4,
 "nbformat_minor": 5
}
